{
 "cells": [
  {
   "cell_type": "code",
   "execution_count": null,
   "metadata": {},
   "outputs": [],
   "source": [
    "import random\n",
    "import os\n",
    "import torch\n",
    "import numpy as np\n",
    "import librosa\n",
    "import uuid\n",
    "import json\n",
    "import matplotlib.pyplot as plt\n",
    "import seaborn as sns\n",
    "from sklearn.decomposition import PCA\n",
    "from sklearn.manifold import TSNE\n",
    "from sklearn.metrics.pairwise import cosine_similarity\n",
    "from scipy.spatial.distance import pdist, squareform"
   ]
  },
  {
   "cell_type": "markdown",
   "metadata": {},
   "source": [
    "# Load Model"
   ]
  },
  {
   "cell_type": "code",
   "execution_count": null,
   "metadata": {},
   "outputs": [],
   "source": [
    "model_path = \"C:/Users/admin/RVC-Voice-Lab/models/base/base.pth\"\n",
    "m = torch.load(model_path, map_location=\"cpu\")\n",
    "emb = m[\"model\"][\"emb_g.weight\"]\n",
    "print(f\"Is a voice lab model: {'voice_lab' in m.keys()}\")"
   ]
  },
  {
   "cell_type": "markdown",
   "metadata": {},
   "source": [
    "# Plot PCA components"
   ]
  },
  {
   "cell_type": "code",
   "execution_count": null,
   "metadata": {},
   "outputs": [],
   "source": [
    "num_components = 32\n",
    "\n",
    "pca = PCA(n_components=num_components)\n",
    "reduced = pca.fit_transform(emb[:-1])\n",
    "\n",
    "fig, ax = plt.subplots(nrows=6, ncols=5)\n",
    "fig.set_size_inches(120,120)\n",
    "\n",
    "# Dataset High Light\n",
    "#c = [\"b\"] * 86 + [\"r\"] * 62 + [\"g\"] * 110 + [\"c\"] * 20 \n",
    "\n",
    "# Male (b) Female (r) Highlight (Cyan: didn't have any speaker information)\n",
    "#c = [\"c\"]* 86 + [\"r\"] * 62 + [\"r\",\"b\",\"b\",\"r\",\"r\",\"r\",\"r\",\"b\",\"r\",\"r\",\"r\",\"b\",\"r\",\"r\",\"r\",\"b\",\"b\",\"r\",\"b\",\"b\",\"b\",\"r\",\"r\",\"r\",\"b\",\"b\",\"r\",\"b\",\"b\",\"b\",\"r\",\"b\",\"b\",\"b\",\"r\",\"r\",\"b\",\"r\",\"r\",\"r\",\"r\",\"r\",\"r\",\"b\",\"b\",\"b\",\"b\",\"b\",\"b\",\"r\",\"r\",\"b\",\"b\",\"r\",\"b\",\"r\",\"r\",\"b\",\"b\",\"b\",\"b\",\"r\",\"b\",\"r\",\"r\",\"r\",\"r\",\"b\",\"r\",\"r\",\"r\",\"b\",\"r\",\"b\",\"r\",\"r\",\"r\",\"r\",\"r\",\"b\",\"r\",\"r\",\"r\",\"b\",\"b\",\"r\",\"r\",\"r\",\"b\",\"r\",\"r\",\"r\",\"b\",\"r\",\"r\",\"r\",\"r\",\"r\",\"r\",\"b\",\"b\",\"r\",\"b\",\"r\",\"r\",\"b\",\"b\",\"b\",\"b\",\"r\"] +[\"r\"] * 9 + [\"b\"] * 11\n",
    "i = 0\n",
    "for row in ax:\n",
    "    for col in row:\n",
    "        col.set_xlabel('Principal Component '+str(0), fontsize = 15)\n",
    "        col.set_ylabel('Principal Component '+str(i), fontsize = 15)\n",
    "        col.scatter(reduced[:,0], reduced[:,i], c=c,)\n",
    "        i += 1\n",
    "plt.show()"
   ]
  },
  {
   "cell_type": "markdown",
   "metadata": {},
   "source": [
    "# Plot PCA components and new generated"
   ]
  },
  {
   "cell_type": "code",
   "execution_count": null,
   "metadata": {},
   "outputs": [],
   "source": [
    "num_components = 32\n",
    "\n",
    "num_new_emb = 250\n",
    "scaling = 1\n",
    "\n",
    "pca = PCA(n_components=num_components)\n",
    "reduced = pca.fit_transform(emb)\n",
    "emb_up_first = pca.inverse_transform(reduced*scaling)\n",
    "emb_up_after = pca.inverse_transform(reduced) *scaling\n",
    "\n",
    "mu_reduced = np.mean(reduced, axis=0)\n",
    "sigma_reduced = np.cov(reduced, rowvar=False)\n",
    "\n",
    "new_emb_reduced = np.random.multivariate_normal(mu_reduced, sigma_reduced, num_new_emb)\n",
    "new_emb = pca.inverse_transform(new_emb_reduced)\n",
    "\n",
    "fig, ax = plt.subplots(nrows=4, ncols=4)\n",
    "fig.set_size_inches(65,65)\n",
    "\n",
    "i = 0\n",
    "for row in ax:\n",
    "    for col in row:\n",
    "        col.set_xlabel('Principal Component '+str(0), fontsize = 15)\n",
    "        col.set_ylabel('Principal Component '+str(i), fontsize = 15)\n",
    "        col.scatter(reduced[:,0], reduced[:,i], c=\"b\", label=\"Original\")\n",
    "        col.scatter(new_emb_reduced[:,0], new_emb_reduced[:,i], c=\"g\", label=\"New\")\n",
    "        col.legend(loc='upper right')\n",
    "        i += 1\n",
    "plt.title('PCA Analysis')\n",
    "plt.show()"
   ]
  },
  {
   "cell_type": "markdown",
   "metadata": {},
   "source": [
    "# Graphs"
   ]
  },
  {
   "cell_type": "code",
   "execution_count": null,
   "metadata": {},
   "outputs": [],
   "source": [
    "euclidean_dist_matrix = squareform(pdist(emb, 'euclidean'))\n",
    "sns.heatmap(euclidean_dist_matrix, cmap='viridis')\n",
    "plt.title('Euclidean Distance Matrix of Voice Embeddings')\n",
    "plt.show()\n",
    "\n",
    "cos_sim_matrix = cosine_similarity(emb)\n",
    "sns.heatmap(cos_sim_matrix, cmap='viridis')\n",
    "plt.title('Cosine Similarity Matrix of Voice Embeddings')\n",
    "plt.show()"
   ]
  }
 ],
 "metadata": {
  "kernelspec": {
   "display_name": "Python 3",
   "language": "python",
   "name": "python3"
  },
  "language_info": {
   "codemirror_mode": {
    "name": "ipython",
    "version": 3
   },
   "file_extension": ".py",
   "mimetype": "text/x-python",
   "name": "python",
   "nbconvert_exporter": "python",
   "pygments_lexer": "ipython3",
   "version": "3.11.5"
  }
 },
 "nbformat": 4,
 "nbformat_minor": 2
}
